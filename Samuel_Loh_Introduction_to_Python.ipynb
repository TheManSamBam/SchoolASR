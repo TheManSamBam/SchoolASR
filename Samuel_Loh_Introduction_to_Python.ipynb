{
  "nbformat": 4,
  "nbformat_minor": 0,
  "metadata": {
    "colab": {
      "provenance": [],
      "include_colab_link": true
    },
    "kernelspec": {
      "name": "python3",
      "display_name": "Python 3"
    },
    "language_info": {
      "name": "python"
    }
  },
  "cells": [
    {
      "cell_type": "markdown",
      "metadata": {
        "id": "view-in-github",
        "colab_type": "text"
      },
      "source": [
        "<a href=\"https://colab.research.google.com/github/TheManSamBam/SchoolASR/blob/main/Samuel_Loh_Introduction_to_Python.ipynb\" target=\"_parent\"><img src=\"https://colab.research.google.com/assets/colab-badge.svg\" alt=\"Open In Colab\"/></a>"
      ]
    },
    {
      "cell_type": "markdown",
      "source": [
        "# Introduction to Python\n",
        "\n",
        "* comment\n",
        "* input and output\n",
        "* data types - int, float, str, bool\n",
        "* variables + assignment\n",
        "* operators - math/arithmetic, logical (and, or, not), comparison (==, !=, >, <, >=, <=)\n",
        "* conditionals - if-else, nested\n",
        "* loops - for, while\n",
        "* lists\n",
        "* functions\n",
        "\n"
      ],
      "metadata": {
        "id": "aYrR1M5yd8iF"
      }
    }
  ]
}